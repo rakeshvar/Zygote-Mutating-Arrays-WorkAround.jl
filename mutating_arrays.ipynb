{
 "cells": [
  {
   "cell_type": "markdown",
   "metadata": {},
   "source": [
    "# Working around Mutating Arrays\n",
    "\n",
    "We use Julia's Zygote package to perform automatic code differentiation. But it does not work if you are differentiating code that is ‘mutating arrays’ somewhere. Here we present how to go around this problem in a couple of ways. Using a sample problem.\n",
    "\n",
    "## The Problem\n",
    "We have a dynamical system that takes an input $x$, and has a state $a$. \n",
    "Here both $x$ and $a$ are $n$-vectors.\n",
    "The update rule for $a$ at time $t$ is. \n",
    "$$\n",
    "a_t = A a_{t-1} + x_t\n",
    "$$\n",
    "\n",
    "$A$ a $m$-diagonal matrix of size $n\\times n$, constructed as:"
   ]
  },
  {
   "cell_type": "code",
   "execution_count": 1,
   "metadata": {},
   "outputs": [],
   "source": [
    "function getA(m, n)\n",
    "    A = zeros(Int, n, n)\n",
    "    for d in 0:m-1\n",
    "        for j in 1:n-d \n",
    "            A[j, j+d] = m-d\n",
    "        end\n",
    "    end\n",
    "    return A\n",
    "end;"
   ]
  },
  {
   "cell_type": "code",
   "execution_count": 2,
   "metadata": {},
   "outputs": [
    {
     "data": {
      "text/plain": [
       "4×4 Array{Int64,2}:\n",
       " 1  0  0  0\n",
       " 0  1  0  0\n",
       " 0  0  1  0\n",
       " 0  0  0  1"
      ]
     },
     "execution_count": 2,
     "metadata": {},
     "output_type": "execute_result"
    }
   ],
   "source": [
    "getA(1, 4)"
   ]
  },
  {
   "cell_type": "code",
   "execution_count": 3,
   "metadata": {},
   "outputs": [
    {
     "data": {
      "text/plain": [
       "4×4 Array{Int64,2}:\n",
       " 2  1  0  0\n",
       " 0  2  1  0\n",
       " 0  0  2  1\n",
       " 0  0  0  2"
      ]
     },
     "execution_count": 3,
     "metadata": {},
     "output_type": "execute_result"
    }
   ],
   "source": [
    "getA(2, 4)"
   ]
  },
  {
   "cell_type": "code",
   "execution_count": 4,
   "metadata": {},
   "outputs": [
    {
     "data": {
      "text/plain": [
       "4×4 Array{Int64,2}:\n",
       " 3  2  1  0\n",
       " 0  3  2  1\n",
       " 0  0  3  2\n",
       " 0  0  0  3"
      ]
     },
     "execution_count": 4,
     "metadata": {},
     "output_type": "execute_result"
    }
   ],
   "source": [
    "getA(3, 4)"
   ]
  },
  {
   "cell_type": "markdown",
   "metadata": {},
   "source": [
    "After $t$ time, the output is just $y = a_t[1]$.\n",
    "That is the first element of the state vector. "
   ]
  },
  {
   "cell_type": "code",
   "execution_count": 5,
   "metadata": {},
   "outputs": [],
   "source": [
    "function y(x, m; showstate=false)\n",
    "    n, T = size(x)\n",
    "    A = getA(m, n)\n",
    "    aaa_ = zeros(eltype(x), n, T)      # Store all the states a in a matrix \n",
    "    aaa_[:, 1] = x[:, 1]\n",
    "    for t in 2:T\n",
    "        aaa_[:, t] = A * aaa_[:, t-1] + x[:, t]\n",
    "    end\n",
    "    if showstate \n",
    "        print(\"a... = \")\n",
    "        show(stdout, \"text/plain\", aaa_)\n",
    "    end\n",
    "    aaa_[1, T]\n",
    "end;"
   ]
  },
  {
   "cell_type": "markdown",
   "metadata": {},
   "source": [
    "We represent the input $\\{x_1, x_2, \\cdots, x_t\\}$ as the $n\\times t$ matrix $X$.\n",
    "Now we want to find the gradient $\\nabla_X y$, which is also an $n\\times t$ matrix."
   ]
  },
  {
   "cell_type": "code",
   "execution_count": 6,
   "metadata": {},
   "outputs": [
    {
     "data": {
      "text/plain": [
       "9×11 Array{Int64,2}:\n",
       " 1  10   8   6   4   2  0   9   7   5   3\n",
       " 2   0   9   7   5   3  1  10   8   6   4\n",
       " 3   1  10   8   6   4  2   0   9   7   5\n",
       " 4   2   0   9   7   5  3   1  10   8   6\n",
       " 5   3   1  10   8   6  4   2   0   9   7\n",
       " 6   4   2   0   9   7  5   3   1  10   8\n",
       " 7   5   3   1  10   8  6   4   2   0   9\n",
       " 8   6   4   2   0   9  7   5   3   1  10\n",
       " 9   7   5   3   1  10  8   6   4   2   0"
      ]
     },
     "execution_count": 6,
     "metadata": {},
     "output_type": "execute_result"
    }
   ],
   "source": [
    "# Generate data\n",
    "N, T = 9, 11\n",
    "X = reshape((1:N*T).%T, N, T)"
   ]
  },
  {
   "cell_type": "code",
   "execution_count": 7,
   "metadata": {},
   "outputs": [
    {
     "name": "stdout",
     "output_type": "stream",
     "text": [
      "a... = 9×11 Array{Int64,2}:\n",
      " 1  14  43  126  378  1158  3596  11274  35514  112209  355053\n",
      " 2   7  34  122  400  1280  4073  12959  41176  130632  413087\n",
      " 3  11  47  151  477  1512  4803  15250  48274  151819  472932\n",
      " 4  15  49  169  554  1777  5644  17765  55264  169289  509545\n",
      " 5  19  62  209  664  2087  6476  19724  58753  170961  486058\n",
      " 6  23  75  238  753  2298  6770  19305  53446  144129  379711\n",
      " 7  27  88  268  785  2169  5762  14835  37227   91445  220642\n",
      " 8  31  91  239  591  1418  3307   7555  16991   37743   83018\n",
      " 9  25  55  113  227   464   936   1878   3760    7522   15044"
     ]
    },
    {
     "data": {
      "text/plain": [
       "355053"
      ]
     },
     "execution_count": 7,
     "metadata": {},
     "output_type": "execute_result"
    }
   ],
   "source": [
    "y(X, 2, showstate=true)"
   ]
  },
  {
   "cell_type": "markdown",
   "metadata": {},
   "source": [
    "You can see here that the result is the first element of the final state. That is the top right element of the $a$'s matrix above. This value depends on the previous states, and through them on the input matrix $X$. Now we need to differentiate $y = a_t[1]$, with respect to (each element of) the matrix $X$."
   ]
  },
  {
   "cell_type": "code",
   "execution_count": 8,
   "metadata": {},
   "outputs": [
    {
     "ename": "LoadError",
     "evalue": "Mutating arrays is not supported",
     "output_type": "error",
     "traceback": [
      "Mutating arrays is not supported",
      "",
      "Stacktrace:",
      " [1] error(::String) at ./error.jl:33",
      " [2] (::Zygote.var\"#355#356\")(::Nothing) at /home/rakesha/.julia/packages/Zygote/Xgcgs/src/lib/array.jl:58",
      " [3] (::Zygote.var\"#2224#back#357\"{Zygote.var\"#355#356\"})(::Nothing) at /home/rakesha/.julia/packages/ZygoteRules/6nssF/src/adjoint.jl:49",
      " [4] #y#1 at ./In[5]:7 [inlined]",
      " [5] (::Zygote.Pullback{Tuple{var\"##y#1\",Bool,typeof(y),Array{Int64,2},Int64},Any})(::Int64) at /home/rakesha/.julia/packages/Zygote/Xgcgs/src/compiler/interface2.jl:0",
      " [6] y at ./In[5]:2 [inlined]",
      " [7] #2 at ./In[8]:3 [inlined]",
      " [8] (::Zygote.Pullback{Tuple{var\"#2#3\",Array{Int64,2}},Tuple{Zygote.Pullback{Tuple{typeof(y),Array{Int64,2},Int64},Tuple{Zygote.Pullback{Tuple{var\"##y#1\",Bool,typeof(y),Array{Int64,2},Int64},Any}}},Zygote.var\"#1551#back#91\"{Zygote.var\"#89#90\"{Zygote.Context,GlobalRef,Int64}}}})(::Int64) at /home/rakesha/.julia/packages/Zygote/Xgcgs/src/compiler/interface2.jl:0",
      " [9] (::Zygote.var\"#41#42\"{Zygote.Pullback{Tuple{var\"#2#3\",Array{Int64,2}},Tuple{Zygote.Pullback{Tuple{typeof(y),Array{Int64,2},Int64},Tuple{Zygote.Pullback{Tuple{var\"##y#1\",Bool,typeof(y),Array{Int64,2},Int64},Any}}},Zygote.var\"#1551#back#91\"{Zygote.var\"#89#90\"{Zygote.Context,GlobalRef,Int64}}}}})(::Int64) at /home/rakesha/.julia/packages/Zygote/Xgcgs/src/compiler/interface.jl:45",
      " [10] gradient(::Function, ::Array{Int64,2}) at /home/rakesha/.julia/packages/Zygote/Xgcgs/src/compiler/interface.jl:54",
      " [11] dy(::Array{Int64,2}) at ./In[8]:3",
      " [12] top-level scope at In[8]:4",
      " [13] include_string(::Function, ::Module, ::String, ::String) at ./loading.jl:1091"
     ]
    }
   ],
   "source": [
    "using Zygote: gradient, @ignore\n",
    "M = 2\n",
    "dy(x) = gradient(X_ -> y(X_, M), x)[1]\n",
    "dy(X)"
   ]
  },
  {
   "cell_type": "markdown",
   "metadata": {},
   "source": [
    "This is leading to an error as expected as we are assigning to existing matrices. \n",
    "\n",
    "In function `y`, we are assigning to `aaa_[:, t] = ...`\n",
    "\n",
    "In function `getA`, we are assigning to `A[j, j+d] = ...`"
   ]
  },
  {
   "cell_type": "markdown",
   "metadata": {},
   "source": [
    "## Ignoring\n",
    "Now we see that the recurrence realation matrix $A$ is a constant with respect to $y$. So we can just ask the `Zygote` to ignore the consturction of `A`. \n",
    "\n",
    "While we are at it, let us also optimize our function to not store intermediate states. And avoid assigning to  `aaa_[:, t] = ...`"
   ]
  },
  {
   "cell_type": "code",
   "execution_count": 9,
   "metadata": {},
   "outputs": [],
   "source": [
    "function y1(x, m)\n",
    "    n, T = size(x)\n",
    "    A = @ignore getA(m, n)     # Using @ignore macro\n",
    "    a = x[:, 1]\n",
    "    for t in 2:T\n",
    "        a = A*a       # We are not assigning to part of an array/matrix anymore \n",
    "        a += x[:, t]\n",
    "    end\n",
    "    a[1]\n",
    "end\n",
    "dy1(x) = gradient(X_ -> y1(X_, M), x)[1];"
   ]
  },
  {
   "cell_type": "code",
   "execution_count": 10,
   "metadata": {},
   "outputs": [
    {
     "data": {
      "text/plain": [
       "9×11 Array{Int64,2}:\n",
       "  1024   512   256  128   64  32  16   8  4  2  1\n",
       "  5120  2304  1024  448  192  80  32  12  4  1  0\n",
       " 11520  4608  1792  672  240  80  24   6  1  0  0\n",
       " 15360  5376  1792  560  160  40   8   1  0  0  0\n",
       " 13440  4032  1120  280   60  10   1   0  0  0  0\n",
       "  8064  2016   448   84   12   1   0   0  0  0  0\n",
       "  3360   672   112   14    1   0   0   0  0  0  0\n",
       "   960   144    16    1    0   0   0   0  0  0  0\n",
       "   180    18     1    0    0   0   0   0  0  0  0"
      ]
     },
     "execution_count": 10,
     "metadata": {},
     "output_type": "execute_result"
    }
   ],
   "source": [
    "dy1(X)"
   ]
  },
  {
   "cell_type": "markdown",
   "metadata": {},
   "source": [
    "Yay! It works!"
   ]
  },
  {
   "cell_type": "markdown",
   "metadata": {},
   "source": [
    "## An Inefficient Solution\n",
    "As you can see above we removed the line `aaa_[:, t] = ...` and replaced it with the lines\n",
    "\n",
    "```\n",
    "a = A*a     \n",
    "a += x[:, t]\n",
    "```\n",
    "\n",
    "So that we are not mutating a part of an array/matrix anywhere. \n",
    "\n",
    "This works but is inefficient as for large sizes $n$, multipication by $A$ can be achieved in $O(n)$ time vs. $O(n^2)$ time as our current direct matrix multiplication does! So we make the function $y$ more efficient by avoiding the matrix $A$. Instead, we write code to update state without the multipication."
   ]
  },
  {
   "cell_type": "code",
   "execution_count": 11,
   "metadata": {},
   "outputs": [
    {
     "name": "stdout",
     "output_type": "stream",
     "text": [
      "y1(X, M) = 355053\n",
      "y2(X, M) = 355053\n"
     ]
    }
   ],
   "source": [
    "function updatestate(a, m)\n",
    "    aa = zero(a)\n",
    "    n = length(a)\n",
    "    for i in 1:n\n",
    "        for d in 0:min(m-1, n-i)\n",
    "            aa[i] += (m-d) * a[i+d] \n",
    "        end\n",
    "    end\n",
    "    return aa\n",
    "end\n",
    "\n",
    "function y2(x::Matrix{F}, m::Integer) where F\n",
    "    n, t = size(x)\n",
    "    a = zeros(F, n)\n",
    "    for i in 1:t\n",
    "        a = updatestate(a, m)\n",
    "        a += x[:, i]\n",
    "    end\n",
    "    a[1]\n",
    "end\n",
    "@show y1(X, M)\n",
    "@show y2(X, M)    ;"
   ]
  },
  {
   "cell_type": "code",
   "execution_count": 12,
   "metadata": {},
   "outputs": [
    {
     "name": "stdout",
     "output_type": "stream",
     "text": [
      "  7.733 ms (31 allocations: 7.85 MiB)\n",
      "  54.092 μs (32 allocations: 246.08 KiB)\n"
     ]
    }
   ],
   "source": [
    "using BenchmarkTools\n",
    "Xr = rand(1000, 10)\n",
    "@btime y1(Xr, M)\n",
    "@btime y2(Xr, M);"
   ]
  },
  {
   "cell_type": "markdown",
   "metadata": {},
   "source": [
    "Our new implementation works and (for $n=1000$) is nearly **150 times faster**! So the optimization is worth it. \n",
    "\n",
    "Now let us try to differentiate it. We can already guess that `updatestate` is going to error as it is mutating the vector `aa`!"
   ]
  },
  {
   "cell_type": "code",
   "execution_count": 13,
   "metadata": {},
   "outputs": [
    {
     "ename": "LoadError",
     "evalue": "Mutating arrays is not supported",
     "output_type": "error",
     "traceback": [
      "Mutating arrays is not supported",
      "",
      "Stacktrace:",
      " [1] error(::String) at ./error.jl:33",
      " [2] (::Zygote.var\"#355#356\")(::Nothing) at /home/rakesha/.julia/packages/Zygote/Xgcgs/src/lib/array.jl:58",
      " [3] (::Zygote.var\"#2224#back#357\"{Zygote.var\"#355#356\"})(::Nothing) at /home/rakesha/.julia/packages/ZygoteRules/6nssF/src/adjoint.jl:49",
      " [4] updatestate at ./In[11]:6 [inlined]",
      " [5] (::typeof(∂(updatestate)))(::Array{Int64,1}) at /home/rakesha/.julia/packages/Zygote/Xgcgs/src/compiler/interface2.jl:0",
      " [6] y2 at ./In[11]:16 [inlined]",
      " [7] (::typeof(∂(y2)))(::Int64) at /home/rakesha/.julia/packages/Zygote/Xgcgs/src/compiler/interface2.jl:0",
      " [8] #10 at ./In[13]:1 [inlined]",
      " [9] (::typeof(∂(#10)))(::Int64) at /home/rakesha/.julia/packages/Zygote/Xgcgs/src/compiler/interface2.jl:0",
      " [10] (::Zygote.var\"#41#42\"{typeof(∂(#10))})(::Int64) at /home/rakesha/.julia/packages/Zygote/Xgcgs/src/compiler/interface.jl:45",
      " [11] gradient(::Function, ::Array{Int64,2}) at /home/rakesha/.julia/packages/Zygote/Xgcgs/src/compiler/interface.jl:54",
      " [12] dy2(::Array{Int64,2}) at ./In[13]:1",
      " [13] top-level scope at In[13]:2",
      " [14] include_string(::Function, ::Module, ::String, ::String) at ./loading.jl:1091"
     ]
    }
   ],
   "source": [
    "dy2(x) = gradient(X_ -> y2(X_, M), x)[1];\n",
    "dy2(X)"
   ]
  },
  {
   "cell_type": "markdown",
   "metadata": {},
   "source": [
    "But we can not just `@ignore updatestate` because this operation does affect the final gradient as opposed to building the constant `A` in `y1`. \n",
    "\n",
    "## The WorkAround\n",
    "We need to work around the 'mutating array' operation of `updatestate`. Since `Zygote` is unable to differentiate `updatestate` automatically, we do it ourself!\n",
    "This is simple as the derivative of $b = Aa$ is just $A^T$. So the chain rule is $\\bar{a} = A^T\\bar{b}$. Where $\\bar{b}$ is the derivative of the final answer (here $y$) with respect to $b$, and similarly for $a$.\n",
    "\n",
    "We write the chain rule as a reverse rule using the `ChainRulesCore` package.\n",
    "\n",
    "The `rrule` function takes the same arguments as the original function `updatestate`, i.e. `a`, `m`. It calculates the actual ‘forward’ value which is just `update(a, m)`, and along with it returns the ‘pullback’ function. \n",
    "\n",
    "For a given `a` and `m`, the pullback function takes the derivative w.r.to the new state $\\bar{a}$ and returns the derivative w.r.to the old state $\\bar{b}$, thus implementing the chainrule in reverse. \n",
    "\n",
    "(For some unknown reason, I am having to redefine `updatestate`. This is not needed if you are not working at a REPL.)"
   ]
  },
  {
   "cell_type": "code",
   "execution_count": 14,
   "metadata": {},
   "outputs": [],
   "source": [
    "import ChainRulesCore: rrule, DoesNotExist, NO_FIELDS\n",
    "\n",
    "function updatestate(a, m)    # Same definition as above.\n",
    "    aa = zero(a)\n",
    "    n = length(a)\n",
    "    for i in 1:n\n",
    "        for d in 0:min(m-1, n-i)\n",
    "            aa[i] += (m-d) * a[i+d] \n",
    "        end\n",
    "    end\n",
    "    return aa\n",
    "end\n",
    "\n",
    "function rrule(::typeof(updatestate), a, m)\n",
    "    function update_pullback(ā)\n",
    "        b̄ = zero(ā)\n",
    "        for i in 1:length(a)\n",
    "            for d in 0:m-1\n",
    "                if i-d > 0\n",
    "                    b̄[i] += (m-d) * ā[i-d]\n",
    "                end\n",
    "            end\n",
    "        end\n",
    "        return NO_FIELDS, b̄, DoesNotExist()\n",
    "    end\n",
    "    return updatestate(a, m), update_pullback\n",
    "end;"
   ]
  },
  {
   "cell_type": "markdown",
   "metadata": {},
   "source": [
    "`updatestate` does not have any ‘fields/parameters’, hence `NO_FIELDS`. It also is not differentiable w.r.to `m`, hence the `DoesNotExist()`.\n",
    "\n",
    "Now let us try to diffentiate our efficient implementation `y2`."
   ]
  },
  {
   "cell_type": "code",
   "execution_count": 15,
   "metadata": {},
   "outputs": [
    {
     "data": {
      "text/plain": [
       "9×11 Array{Int64,2}:\n",
       "  1024   512   256  128   64  32  16   8  4  2  1\n",
       "  5120  2304  1024  448  192  80  32  12  4  1  0\n",
       " 11520  4608  1792  672  240  80  24   6  1  0  0\n",
       " 15360  5376  1792  560  160  40   8   1  0  0  0\n",
       " 13440  4032  1120  280   60  10   1   0  0  0  0\n",
       "  8064  2016   448   84   12   1   0   0  0  0  0\n",
       "  3360   672   112   14    1   0   0   0  0  0  0\n",
       "   960   144    16    1    0   0   0   0  0  0  0\n",
       "   180    18     1    0    0   0   0   0  0  0  0"
      ]
     },
     "execution_count": 15,
     "metadata": {},
     "output_type": "execute_result"
    }
   ],
   "source": [
    "dy2m(x) = gradient(X_ -> y2(X_, M), x)[1];\n",
    "dy2m(X)"
   ]
  },
  {
   "cell_type": "code",
   "execution_count": 16,
   "metadata": {},
   "outputs": [
    {
     "name": "stdout",
     "output_type": "stream",
     "text": [
      "  37.859 ms (312 allocations: 139.08 MiB)\n",
      "  235.920 μs (290 allocations: 1.78 MiB)\n"
     ]
    }
   ],
   "source": [
    "@btime dy1(Xr)\n",
    "@btime dy2m(Xr);"
   ]
  },
  {
   "cell_type": "markdown",
   "metadata": {},
   "source": [
    "Yay! It works and our efficient method is again nearly **170 times faster** than the multiplication-by-a-matrix version, making it worthwhile to mutate arrays."
   ]
  },
  {
   "cell_type": "code",
   "execution_count": null,
   "metadata": {},
   "outputs": [],
   "source": []
  }
 ],
 "metadata": {
  "kernelspec": {
   "display_name": "Julia 1.5.1",
   "language": "julia",
   "name": "julia-1.5"
  },
  "language_info": {
   "file_extension": ".jl",
   "mimetype": "application/julia",
   "name": "julia",
   "version": "1.5.1"
  }
 },
 "nbformat": 4,
 "nbformat_minor": 2
}
