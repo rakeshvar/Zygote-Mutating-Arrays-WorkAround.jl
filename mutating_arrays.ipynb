{
 "cells": [
  {
   "cell_type": "markdown",
   "metadata": {},
   "source": [
    "# Working around Mutating Arrays\n",
    "\n",
    "We use Julia's Zygote package to perform automatic code differentiation. But it does not work if you are differentiating code that is ‘mutating arrays’ somewhere. Here we present how to go around this problem in a couple of ways. Using a sample problem.\n",
    "\n",
    "## The Problem\n",
    "We have a dynamical system that takes an input $x$, and has a state $a$. \n",
    "Here both $x$ and $a$ are $n$-vectors.\n",
    "The update rule for $a$ at time $t$ is. \n",
    "$$\n",
    "a_t = A a_{t-1} + x_t\n",
    "$$\n",
    "\n",
    "$A$ a $m$-diagonal matrix of size $n\\times n$, constructed as:"
   ]
  },
  {
   "cell_type": "code",
   "execution_count": null,
   "metadata": {},
   "outputs": [],
   "source": [
    "function getA(m, n)\n",
    "    A = zeros(Int, n, n)\n",
    "    for d in 0:m-1\n",
    "        for j in 1:n-d \n",
    "            A[j, j+d] = m-d\n",
    "        end\n",
    "    end\n",
    "    return A\n",
    "end;"
   ]
  },
  {
   "cell_type": "code",
   "execution_count": null,
   "metadata": {},
   "outputs": [],
   "source": [
    "getA(1, 4)"
   ]
  },
  {
   "cell_type": "code",
   "execution_count": null,
   "metadata": {},
   "outputs": [],
   "source": [
    "getA(2, 4)"
   ]
  },
  {
   "cell_type": "code",
   "execution_count": null,
   "metadata": {},
   "outputs": [],
   "source": [
    "getA(3, 4)"
   ]
  },
  {
   "cell_type": "markdown",
   "metadata": {},
   "source": [
    "After $t$ time, the output is just $y = a_t[1]$.\n",
    "That is the first element of the state vector. "
   ]
  },
  {
   "cell_type": "code",
   "execution_count": null,
   "metadata": {},
   "outputs": [],
   "source": [
    "function y(x, m; showstate=false)\n",
    "    n, T = size(x)\n",
    "    A = getA(m, n)\n",
    "    aaa_ = zeros(eltype(x), n, T)      # Store all the states a in a matrix \n",
    "    aaa_[:, 1] = x[:, 1]\n",
    "    for t in 2:T\n",
    "        aaa_[:, t] = A * aaa_[:, t-1] + x[:, t]\n",
    "    end\n",
    "    if showstate \n",
    "        print(\"a... = \")\n",
    "        show(stdout, \"text/plain\", aaa_)\n",
    "    end\n",
    "    aaa_[1, T]\n",
    "end;"
   ]
  },
  {
   "cell_type": "markdown",
   "metadata": {},
   "source": [
    "We represent the input $\\{x_1, x_2, \\cdots, x_t\\}$ as the $n\\times t$ matrix $X$.\n",
    "Now we want to find the gradient $\\nabla_X y$, which is also an $n\\times t$ matrix."
   ]
  },
  {
   "cell_type": "code",
   "execution_count": null,
   "metadata": {},
   "outputs": [],
   "source": [
    "# Generate data\n",
    "N, T = 9, 11\n",
    "X = reshape((1:N*T).%T, N, T)"
   ]
  },
  {
   "cell_type": "code",
   "execution_count": null,
   "metadata": {},
   "outputs": [],
   "source": [
    "y(X, 2, showstate=true)"
   ]
  },
  {
   "cell_type": "markdown",
   "metadata": {},
   "source": [
    "You can see here that the result is the first element of the final state. That is the top right element of the $a$'s matrix above. This value depends on the previous states, and through them on the input matrix $X$. Now we need to differentiate $y = a_t[1]$, with respect to (each element of) the matrix $X$."
   ]
  },
  {
   "cell_type": "code",
   "execution_count": null,
   "metadata": {},
   "outputs": [],
   "source": [
    "using Zygote: gradient, @ignore\n",
    "M = 2\n",
    "dy(x) = gradient(X_ -> y(X_, M), x)[1]\n",
    "dy(X)"
   ]
  },
  {
   "cell_type": "markdown",
   "metadata": {},
   "source": [
    "This is leading to an error as expected as we are assigning to existing matrices. \n",
    "\n",
    "In function `y`, we are assigning to `aaa_[:, t] = ...`\n",
    "\n",
    "In function `getA`, we are assigning to `A[j, j+d] = ...`"
   ]
  },
  {
   "cell_type": "markdown",
   "metadata": {},
   "source": [
    "## Ignoring\n",
    "Now we see that the recurrence realation matrix $A$ is a constant with respect to $y$. So we can just ask the `Zygote` to ignore the consturction of `A`. \n",
    "\n",
    "While we are at it, let us also optimize our function to not store intermediate states. And avoid assigning to  `aaa_[:, t] = ...`"
   ]
  },
  {
   "cell_type": "code",
   "execution_count": null,
   "metadata": {},
   "outputs": [],
   "source": [
    "function y1(x, m)\n",
    "    n, T = size(x)\n",
    "    A = @ignore getA(m, n)     # Using @ignore macro\n",
    "    a = x[:, 1]\n",
    "    for t in 2:T\n",
    "        a = A*a       # We are not assigning to part of an array/matrix anymore \n",
    "        a += x[:, t]\n",
    "    end\n",
    "    a[1]\n",
    "end\n",
    "dy1(x) = gradient(X_ -> y1(X_, M), x)[1];"
   ]
  },
  {
   "cell_type": "code",
   "execution_count": null,
   "metadata": {},
   "outputs": [],
   "source": [
    "dy1(X)"
   ]
  },
  {
   "cell_type": "markdown",
   "metadata": {},
   "source": [
    "Yay! It works!"
   ]
  },
  {
   "cell_type": "markdown",
   "metadata": {},
   "source": [
    "## An Inefficient Solution\n",
    "As you can see above we removed the line `aaa_[:, t] = ...` and replaced it with the lines\n",
    "\n",
    "```\n",
    "a = A*a     \n",
    "a += x[:, t]\n",
    "```\n",
    "\n",
    "So that we are not mutating a part of an array/matrix anywhere. \n",
    "\n",
    "This works but is inefficient as for large sizes $n$, multipication by $A$ can be achieved in $O(n)$ time vs. $O(n^2)$ time as our current direct matrix multiplication does! So we make the function $y$ more efficient by avoiding the matrix $A$. Instead, we write code to update state without the multipication."
   ]
  },
  {
   "cell_type": "code",
   "execution_count": null,
   "metadata": {},
   "outputs": [],
   "source": [
    "function updatestate(a, m)\n",
    "    aa = zero(a)\n",
    "    n = length(a)\n",
    "    for i in 1:n\n",
    "        for d in 0:min(m-1, n-i)\n",
    "            aa[i] += (m-d) * a[i+d] \n",
    "        end\n",
    "    end\n",
    "    return aa\n",
    "end\n",
    "\n",
    "function y2(x::Matrix{F}, m::Integer) where F\n",
    "    n, t = size(x)\n",
    "    a = zeros(F, n)\n",
    "    for i in 1:t\n",
    "        a = updatestate(a, m)\n",
    "        a += x[:, i]\n",
    "    end\n",
    "    a[1]\n",
    "end\n",
    "@show y1(X, M)\n",
    "@show y2(X, M)    ;"
   ]
  },
  {
   "cell_type": "code",
   "execution_count": null,
   "metadata": {},
   "outputs": [],
   "source": [
    "using BenchmarkTools\n",
    "Xr = rand(1000, 10)\n",
    "@btime y1(Xr, M)\n",
    "@btime y2(Xr, M);"
   ]
  },
  {
   "cell_type": "markdown",
   "metadata": {},
   "source": [
    "Our new implementation works and (for $n=1000$) is nearly **150 times faster**! So the optimization is worth it. \n",
    "\n",
    "Now let us try to differentiate it. We can already guess that `updatestate` is going to error as it is mutating the vector `aa`!"
   ]
  },
  {
   "cell_type": "code",
   "execution_count": null,
   "metadata": {},
   "outputs": [],
   "source": [
    "dy2(x) = gradient(X_ -> y2(X_, M), x)[1];\n",
    "dy2(X)"
   ]
  },
  {
   "cell_type": "markdown",
   "metadata": {},
   "source": [
    "But we can not just `@ignore updatestate` because this operation does affect the final gradient as opposed to building the constant `A` in `y1`. \n",
    "\n",
    "## The WorkAround\n",
    "We need to work around the 'mutating array' operation of `updatestate`. Since `Zygote` is unable to differentiate `updatestate` automatically, we do it ourself!\n",
    "This is simple as the derivative of $b = Aa$ is just $A^T$. So the chain rule is $\\bar{a} = A^T\\bar{b}$. Where $\\bar{b}$ is the derivative of the final answer (here $y$) with respect to $b$, and similarly for $a$.\n",
    "\n",
    "We write the chain rule as a reverse rule using the `ChainRulesCore` package.\n",
    "\n",
    "The `rrule` function takes the same arguments as the original function `updatestate`, i.e. `a`, `m`. It calculates the actual ‘forward’ value which is just `update(a, m)`, and along with it returns the ‘pullback’ function. \n",
    "\n",
    "For a given `a` and `m`, the pullback function takes the derivative w.r.to the new state $\\bar{a}$ and returns the derivative w.r.to the old state $\\bar{b}$, thus implementing the chainrule in reverse. \n",
    "\n",
    "(For some unknown reason, I am having to redefine `updatestate`. This is not needed if you are not working at a REPL.)"
   ]
  },
  {
   "cell_type": "code",
   "execution_count": null,
   "metadata": {},
   "outputs": [],
   "source": [
    "import ChainRulesCore: rrule, DoesNotExist, NO_FIELDS\n",
    "\n",
    "function updatestate(a, m)    # Same definition as above.\n",
    "    aa = zero(a)\n",
    "    n = length(a)\n",
    "    for i in 1:n\n",
    "        for d in 0:min(m-1, n-i)\n",
    "            aa[i] += (m-d) * a[i+d] \n",
    "        end\n",
    "    end\n",
    "    return aa\n",
    "end\n",
    "\n",
    "function rrule(::typeof(updatestate), a, m)\n",
    "    function update_pullback(ā)\n",
    "        b̄ = zero(ā)\n",
    "        for i in 1:length(a)\n",
    "            for d in 0:m-1\n",
    "                if i-d > 0\n",
    "                    b̄[i] += (m-d) * ā[i-d]\n",
    "                end\n",
    "            end\n",
    "        end\n",
    "        return NO_FIELDS, b̄, DoesNotExist()\n",
    "    end\n",
    "    return updatestate(a, m), update_pullback\n",
    "end;"
   ]
  },
  {
   "cell_type": "markdown",
   "metadata": {},
   "source": [
    "`updatestate` does not have any ‘fields/parameters’, hence `NO_FIELDS`. It also is not differentiable w.r.to `m`, hence the `DoesNotExist()`.\n",
    "\n",
    "Now let us try to diffentiate our efficient implementation `y2`."
   ]
  },
  {
   "cell_type": "code",
   "execution_count": null,
   "metadata": {},
   "outputs": [],
   "source": [
    "dy2m(x) = gradient(X_ -> y2(X_, M), x)[1];\n",
    "dy2m(X)"
   ]
  },
  {
   "cell_type": "code",
   "execution_count": null,
   "metadata": {},
   "outputs": [],
   "source": [
    "@btime dy1(Xr)\n",
    "@btime dy2m(Xr);"
   ]
  },
  {
   "cell_type": "markdown",
   "metadata": {},
   "source": [
    "Yay! It works and our efficient method is again nearly **170 times faster** than the multiplication-by-a-matrix version, making it worthwhile to mutate arrays."
   ]
  },
  {
   "cell_type": "code",
   "execution_count": null,
   "metadata": {},
   "outputs": [],
   "source": []
  }
 ],
 "metadata": {
  "kernelspec": {
   "display_name": "Julia 1.5.1",
   "language": "julia",
   "name": "julia-1.5"
  },
  "language_info": {
   "file_extension": ".jl",
   "mimetype": "application/julia",
   "name": "julia",
   "version": "1.5.1"
  }
 },
 "nbformat": 4,
 "nbformat_minor": 2
}
